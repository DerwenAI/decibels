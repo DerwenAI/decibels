{
 "cells": [
  {
   "cell_type": "markdown",
   "metadata": {},
   "source": [
    "# Example Notebook\n",
    "\n",
    "Here's a simple test of the environment using Pandas, NumPy, Jupyter, etc., based on the [*10 Minutes to pandas*](https://pandas.pydata.org/pandas-docs/stable/getting_started/10min.html) tutorial."
   ]
  },
  {
   "cell_type": "code",
   "execution_count": 2,
   "metadata": {},
   "outputs": [],
   "source": [
    "import numpy as np\n",
    "import pandas as pd"
   ]
  },
  {
   "cell_type": "markdown",
   "metadata": {},
   "source": [
    "First, a series with a `NaN` included:"
   ]
  },
  {
   "cell_type": "code",
   "execution_count": 2,
   "metadata": {},
   "outputs": [
    {
     "data": {
      "text/plain": [
       "0    1.0\n",
       "1    3.0\n",
       "2    5.0\n",
       "3    NaN\n",
       "4    6.0\n",
       "5    8.0\n",
       "dtype: float64"
      ]
     },
     "execution_count": 2,
     "metadata": {},
     "output_type": "execute_result"
    }
   ],
   "source": [
    "s = pd.Series([1, 3, 5, np.nan, 6, 8])\n",
    "s"
   ]
  },
  {
   "cell_type": "markdown",
   "metadata": {},
   "source": [
    "Then some dates:"
   ]
  },
  {
   "cell_type": "code",
   "execution_count": 3,
   "metadata": {},
   "outputs": [
    {
     "data": {
      "text/plain": [
       "DatetimeIndex(['2013-01-01', '2013-01-02', '2013-01-03', '2013-01-04',\n",
       "               '2013-01-05', '2013-01-06'],\n",
       "              dtype='datetime64[ns]', freq='D')"
      ]
     },
     "execution_count": 3,
     "metadata": {},
     "output_type": "execute_result"
    }
   ],
   "source": [
    "dates = pd.date_range('20130101', periods=6)\n",
    "dates"
   ]
  },
  {
   "cell_type": "markdown",
   "metadata": {},
   "source": [
    "Now a simple dataframe:"
   ]
  },
  {
   "cell_type": "code",
   "execution_count": 4,
   "metadata": {},
   "outputs": [
    {
     "data": {
      "text/html": [
       "<div>\n",
       "<style scoped>\n",
       "    .dataframe tbody tr th:only-of-type {\n",
       "        vertical-align: middle;\n",
       "    }\n",
       "\n",
       "    .dataframe tbody tr th {\n",
       "        vertical-align: top;\n",
       "    }\n",
       "\n",
       "    .dataframe thead th {\n",
       "        text-align: right;\n",
       "    }\n",
       "</style>\n",
       "<table border=\"1\" class=\"dataframe\">\n",
       "  <thead>\n",
       "    <tr style=\"text-align: right;\">\n",
       "      <th></th>\n",
       "      <th>A</th>\n",
       "      <th>B</th>\n",
       "      <th>C</th>\n",
       "      <th>D</th>\n",
       "    </tr>\n",
       "  </thead>\n",
       "  <tbody>\n",
       "    <tr>\n",
       "      <th>2013-01-01</th>\n",
       "      <td>0.857868</td>\n",
       "      <td>0.747256</td>\n",
       "      <td>-0.569751</td>\n",
       "      <td>-0.074788</td>\n",
       "    </tr>\n",
       "    <tr>\n",
       "      <th>2013-01-02</th>\n",
       "      <td>-1.024871</td>\n",
       "      <td>-0.390769</td>\n",
       "      <td>0.243756</td>\n",
       "      <td>-1.117749</td>\n",
       "    </tr>\n",
       "    <tr>\n",
       "      <th>2013-01-03</th>\n",
       "      <td>-1.722887</td>\n",
       "      <td>1.677093</td>\n",
       "      <td>0.574838</td>\n",
       "      <td>0.473173</td>\n",
       "    </tr>\n",
       "    <tr>\n",
       "      <th>2013-01-04</th>\n",
       "      <td>-1.108425</td>\n",
       "      <td>-0.614358</td>\n",
       "      <td>1.213418</td>\n",
       "      <td>1.934484</td>\n",
       "    </tr>\n",
       "    <tr>\n",
       "      <th>2013-01-05</th>\n",
       "      <td>1.477569</td>\n",
       "      <td>-0.814777</td>\n",
       "      <td>-0.591397</td>\n",
       "      <td>-0.757493</td>\n",
       "    </tr>\n",
       "    <tr>\n",
       "      <th>2013-01-06</th>\n",
       "      <td>-0.272987</td>\n",
       "      <td>-1.311381</td>\n",
       "      <td>0.968111</td>\n",
       "      <td>-1.051906</td>\n",
       "    </tr>\n",
       "  </tbody>\n",
       "</table>\n",
       "</div>"
      ],
      "text/plain": [
       "                   A         B         C         D\n",
       "2013-01-01  0.857868  0.747256 -0.569751 -0.074788\n",
       "2013-01-02 -1.024871 -0.390769  0.243756 -1.117749\n",
       "2013-01-03 -1.722887  1.677093  0.574838  0.473173\n",
       "2013-01-04 -1.108425 -0.614358  1.213418  1.934484\n",
       "2013-01-05  1.477569 -0.814777 -0.591397 -0.757493\n",
       "2013-01-06 -0.272987 -1.311381  0.968111 -1.051906"
      ]
     },
     "execution_count": 4,
     "metadata": {},
     "output_type": "execute_result"
    }
   ],
   "source": [
    "df = pd.DataFrame(np.random.randn(6, 4), index=dates, columns=list('ABCD'))\n",
    "df"
   ]
  },
  {
   "cell_type": "markdown",
   "metadata": {},
   "source": [
    "## import data\n",
    "\n",
    "Now let's import data from SoundPrint.co :"
   ]
  },
  {
   "cell_type": "code",
   "execution_count": 3,
   "metadata": {},
   "outputs": [
    {
     "data": {
      "text/html": [
       "<div>\n",
       "<style scoped>\n",
       "    .dataframe tbody tr th:only-of-type {\n",
       "        vertical-align: middle;\n",
       "    }\n",
       "\n",
       "    .dataframe tbody tr th {\n",
       "        vertical-align: top;\n",
       "    }\n",
       "\n",
       "    .dataframe thead th {\n",
       "        text-align: right;\n",
       "    }\n",
       "</style>\n",
       "<table border=\"1\" class=\"dataframe\">\n",
       "  <thead>\n",
       "    <tr style=\"text-align: right;\">\n",
       "      <th></th>\n",
       "      <th>location_id</th>\n",
       "      <th>primary_category_name</th>\n",
       "      <th>top_level_category_name</th>\n",
       "      <th>city</th>\n",
       "      <th>state</th>\n",
       "      <th>postal_code</th>\n",
       "      <th>country</th>\n",
       "      <th>time_zone</th>\n",
       "      <th>avg_decibels</th>\n",
       "      <th>min_decibels</th>\n",
       "      <th>max_decibels</th>\n",
       "      <th>local_day_of_week</th>\n",
       "      <th>local_time</th>\n",
       "    </tr>\n",
       "  </thead>\n",
       "  <tbody>\n",
       "    <tr>\n",
       "      <th>0</th>\n",
       "      <td>64</td>\n",
       "      <td>BBQ Joint</td>\n",
       "      <td>Restaurant</td>\n",
       "      <td>New York</td>\n",
       "      <td>NY</td>\n",
       "      <td>10010</td>\n",
       "      <td>United States</td>\n",
       "      <td>America/New_York</td>\n",
       "      <td>85.0</td>\n",
       "      <td>82.0</td>\n",
       "      <td>91.0</td>\n",
       "      <td>sat</td>\n",
       "      <td>7:05:36 PM</td>\n",
       "    </tr>\n",
       "    <tr>\n",
       "      <th>1</th>\n",
       "      <td>64</td>\n",
       "      <td>BBQ Joint</td>\n",
       "      <td>Restaurant</td>\n",
       "      <td>New York</td>\n",
       "      <td>NY</td>\n",
       "      <td>10010</td>\n",
       "      <td>United States</td>\n",
       "      <td>America/New_York</td>\n",
       "      <td>83.0</td>\n",
       "      <td>83.0</td>\n",
       "      <td>83.0</td>\n",
       "      <td>sat</td>\n",
       "      <td>7:25:40 PM</td>\n",
       "    </tr>\n",
       "    <tr>\n",
       "      <th>2</th>\n",
       "      <td>64</td>\n",
       "      <td>BBQ Joint</td>\n",
       "      <td>Restaurant</td>\n",
       "      <td>New York</td>\n",
       "      <td>NY</td>\n",
       "      <td>10010</td>\n",
       "      <td>United States</td>\n",
       "      <td>America/New_York</td>\n",
       "      <td>84.0</td>\n",
       "      <td>84.0</td>\n",
       "      <td>84.0</td>\n",
       "      <td>wed</td>\n",
       "      <td>7:54:13 PM</td>\n",
       "    </tr>\n",
       "    <tr>\n",
       "      <th>3</th>\n",
       "      <td>64</td>\n",
       "      <td>BBQ Joint</td>\n",
       "      <td>Restaurant</td>\n",
       "      <td>New York</td>\n",
       "      <td>NY</td>\n",
       "      <td>10010</td>\n",
       "      <td>United States</td>\n",
       "      <td>America/New_York</td>\n",
       "      <td>81.0</td>\n",
       "      <td>81.0</td>\n",
       "      <td>81.0</td>\n",
       "      <td>fri</td>\n",
       "      <td>8:03:23 PM</td>\n",
       "    </tr>\n",
       "    <tr>\n",
       "      <th>4</th>\n",
       "      <td>64</td>\n",
       "      <td>BBQ Joint</td>\n",
       "      <td>Restaurant</td>\n",
       "      <td>New York</td>\n",
       "      <td>NY</td>\n",
       "      <td>10010</td>\n",
       "      <td>United States</td>\n",
       "      <td>America/New_York</td>\n",
       "      <td>90.0</td>\n",
       "      <td>84.0</td>\n",
       "      <td>104.0</td>\n",
       "      <td>sat</td>\n",
       "      <td>8:11:42 PM</td>\n",
       "    </tr>\n",
       "  </tbody>\n",
       "</table>\n",
       "</div>"
      ],
      "text/plain": [
       "   location_id primary_category_name top_level_category_name      city state  \\\n",
       "0           64             BBQ Joint              Restaurant  New York    NY   \n",
       "1           64             BBQ Joint              Restaurant  New York    NY   \n",
       "2           64             BBQ Joint              Restaurant  New York    NY   \n",
       "3           64             BBQ Joint              Restaurant  New York    NY   \n",
       "4           64             BBQ Joint              Restaurant  New York    NY   \n",
       "\n",
       "   postal_code        country         time_zone  avg_decibels  min_decibels  \\\n",
       "0        10010  United States  America/New_York          85.0          82.0   \n",
       "1        10010  United States  America/New_York          83.0          83.0   \n",
       "2        10010  United States  America/New_York          84.0          84.0   \n",
       "3        10010  United States  America/New_York          81.0          81.0   \n",
       "4        10010  United States  America/New_York          90.0          84.0   \n",
       "\n",
       "   max_decibels local_day_of_week  local_time  \n",
       "0          91.0               sat  7:05:36 PM  \n",
       "1          83.0               sat  7:25:40 PM  \n",
       "2          84.0               wed  7:54:13 PM  \n",
       "3          81.0               fri  8:03:23 PM  \n",
       "4         104.0               sat  8:11:42 PM  "
      ]
     },
     "execution_count": 3,
     "metadata": {},
     "output_type": "execute_result"
    }
   ],
   "source": [
    "df = pd.read_csv(\"soundcheck.csv\")\n",
    "df.head()"
   ]
  },
  {
   "cell_type": "code",
   "execution_count": 6,
   "metadata": {},
   "outputs": [
    {
     "data": {
      "text/plain": [
       "(11658, 13)"
      ]
     },
     "execution_count": 6,
     "metadata": {},
     "output_type": "execute_result"
    }
   ],
   "source": [
    "df.shape"
   ]
  },
  {
   "cell_type": "markdown",
   "metadata": {},
   "source": [
    "Notes from Greg Scott @ SoundPrint:\n",
    "\n",
    "There are ~11,700 SoundChecks of NYC Restaurants in this file organized as follows: \n",
    "\n",
    "For Columns:\n",
    "\n",
    " - *Venue ID* -- developer insisted on making the venue names anonymous, but we can retrieve a specific venue name should you wish; same venue ID means more than one soundcheck was taken for such venue - makes for more robust data)\n",
    "\n",
    " - *Restaurant Type* -- could be interesting segmented data analysis\n",
    "\n",
    " - *Zip code* -- could be good for seeing sound levels by Manhattan neighborhoods\n",
    " \n",
    " - for the *Avg*, *Min*, *Max* sound levels: Avg is what most people care about, but those with _Hyperacusis_ - sensitivity to loud or sudden bursts of noise - care about Max\n",
    "\n",
    " - *Day of the week* -- could be some interested day of the week trends for sound levels (are places louder during weekend days)?\n",
    "\n",
    " - *Timestamp* -- sound levels by time of day could also be useful."
   ]
  },
  {
   "cell_type": "code",
   "execution_count": 4,
   "metadata": {},
   "outputs": [
    {
     "data": {
      "image/png": "[encoded data removed]",
      "text/plain": [
       "<Figure size 432x288 with 1 Axes>"
      ]
     },
     "metadata": {
      "needs_background": "light"
     },
     "output_type": "display_data"
    }
   ],
   "source": [
    "%matplotlib inline\n",
    "\n",
    "d2 = df[\"max_decibels\"]\n",
    "ax = d2.plot.hist(bins=50)"
   ]
  },
  {
   "cell_type": "markdown",
   "metadata": {},
   "source": [
    "Huh. What's weird about the data in that visualization?"
   ]
  },
  {
   "cell_type": "code",
   "execution_count": null,
   "metadata": {},
   "outputs": [],
   "source": []
  }
 ],
 "metadata": {
  "kernelspec": {
   "display_name": "Python 3",
   "language": "python",
   "name": "python3"
  },
  "language_info": {
   "codemirror_mode": {
    "name": "ipython",
    "version": 3
   },
   "file_extension": ".py",
   "mimetype": "text/x-python",
   "name": "python",
   "nbconvert_exporter": "python",
   "pygments_lexer": "ipython3",
   "version": "3.6.7"
  }
 },
 "nbformat": 4,
 "nbformat_minor": 2
}
